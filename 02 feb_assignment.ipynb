{
 "cells": [
  {
   "cell_type": "markdown",
   "id": "171469e9-f158-46f6-87cb-4e5b8a328136",
   "metadata": {},
   "source": [
    "**1 Charaterstics of Tuples**\n",
    "\n",
    "**Tuples are used to stored multiple items in single variable. Tuple are indexed and collection which is ordered and unchangeable.**\n",
    "**Tuples are inmutable.**"
   ]
  },
  {
   "cell_type": "markdown",
   "id": "25b32fde-10da-4b15-9843-24950ebe4b3f",
   "metadata": {},
   "source": [
    "*** 2.  There are 2 tuple methods***\n",
    "\n",
    "ReasonsTuples have only 2 in-built methods compared to List because an unexpected changes and error occures ina list. But in tuples changes and error don't occur usually because of immutability. \n",
    "\n",
    "**count()**\n",
    "**index()**\n",
    "\n",
    "t1=(1,12,4.5,353,\"abcd\",true)"
   ]
  },
  {
   "cell_type": "code",
   "execution_count": 8,
   "id": "140e7f95-1136-4729-a29c-7dfd9c02e0a7",
   "metadata": {},
   "outputs": [],
   "source": [
    "## count()\n",
    "t1=1,2,4.5,353,\"abcd\",True"
   ]
  },
  {
   "cell_type": "code",
   "execution_count": 15,
   "id": "073fa35a-1805-435b-92ca-c0acdf4db8d7",
   "metadata": {},
   "outputs": [
    {
     "data": {
      "text/plain": [
       "1"
      ]
     },
     "execution_count": 15,
     "metadata": {},
     "output_type": "execute_result"
    }
   ],
   "source": [
    "t1.count(2)"
   ]
  },
  {
   "cell_type": "code",
   "execution_count": 16,
   "id": "dbc5caeb-f63e-4d53-a301-57a0ac32dcb0",
   "metadata": {},
   "outputs": [
    {
     "data": {
      "text/plain": [
       "4"
      ]
     },
     "execution_count": 16,
     "metadata": {},
     "output_type": "execute_result"
    }
   ],
   "source": [
    "## index()\n",
    "t1.index(\"abcd\")"
   ]
  },
  {
   "cell_type": "markdown",
   "id": "b8de0f5d-d695-48bd-8b43-df9e97348ad7",
   "metadata": {},
   "source": [
    "***3.  Set is a collection which do not allow duplicate item***\n",
    "\n",
    "l=[1, 1, 1, 2, 1, 3, 1, 4, 2, 1, 2, 2, 2, 3, 2, 4, 3, 1, 3, 2, 3, 3, 3, 4, 4, 1, 4, 2, 4, 3, 4, 4]"
   ]
  },
  {
   "cell_type": "code",
   "execution_count": 32,
   "id": "00e8b3b0-95bb-4a2a-9986-54face0de1f3",
   "metadata": {},
   "outputs": [
    {
     "name": "stdout",
     "output_type": "stream",
     "text": [
      "[1, 2, 3, 4]\n"
     ]
    }
   ],
   "source": [
    "res=[*set(l)]\n",
    "print(res)"
   ]
  },
  {
   "cell_type": "markdown",
   "id": "d609ed77-4b77-4965-9805-4c853cfadbd4",
   "metadata": {},
   "source": [
    "*** 4. update() adds all missing elements to the set where as union() creates new set.***"
   ]
  },
  {
   "cell_type": "code",
   "execution_count": 33,
   "id": "443a3a7b-505a-46c1-81d5-9afc05623128",
   "metadata": {},
   "outputs": [],
   "source": [
    "## example of update() and union()\n",
    "s1={1,2,3,4}\n",
    "s2={'a', 'b', 'c', 'd'}"
   ]
  },
  {
   "cell_type": "code",
   "execution_count": 34,
   "id": "694f2862-7ccc-4ab3-92dc-9a94b9fddc1f",
   "metadata": {},
   "outputs": [],
   "source": [
    "s1.update(s2)"
   ]
  },
  {
   "cell_type": "code",
   "execution_count": 35,
   "id": "378202ea-e151-4fc3-863d-40fc792c7ae4",
   "metadata": {},
   "outputs": [
    {
     "name": "stdout",
     "output_type": "stream",
     "text": [
      "{1, 2, 3, 4, 'c', 'b', 'a', 'd'}\n"
     ]
    }
   ],
   "source": [
    "print(s1)"
   ]
  },
  {
   "cell_type": "code",
   "execution_count": 39,
   "id": "a952fa3f-52d3-4737-a36a-bce89ea82679",
   "metadata": {},
   "outputs": [
    {
     "name": "stdout",
     "output_type": "stream",
     "text": [
      "s1 U s2 = {1, 2, 3, 4, 'c', 'b', 'a', 'd'}\n"
     ]
    }
   ],
   "source": [
    "print('s1 U s2 =', s1.union(s2))"
   ]
  },
  {
   "cell_type": "markdown",
   "id": "33764326-b41e-4cf5-886a-9f43c58ecb2b",
   "metadata": {},
   "source": [
    "*** 5. Dictionary***\n",
    "dictionaries are ordered and changeable and do not allow duplicates.\n",
    "\n",
    "Example\n",
    "numbers={1: \"One\", 2: \"Two\", 3: \"Three\"}"
   ]
  },
  {
   "cell_type": "code",
   "execution_count": 42,
   "id": "4925b7b0-24d0-4d57-840b-8ee43ba2de41",
   "metadata": {},
   "outputs": [],
   "source": [
    "numbers={1: \"One\", 2: \"Two\", 3: \"Three\"}"
   ]
  },
  {
   "cell_type": "code",
   "execution_count": 43,
   "id": "7d02fc80-94b6-4f7b-b15a-d59aaeaed924",
   "metadata": {},
   "outputs": [
    {
     "name": "stdout",
     "output_type": "stream",
     "text": [
      "{1: 'One', 2: 'Two', 3: 'Three'}\n"
     ]
    }
   ],
   "source": [
    "print(numbers)"
   ]
  },
  {
   "cell_type": "markdown",
   "id": "2e0e482b-214e-4c31-8683-ce3475ce68fe",
   "metadata": {},
   "source": [
    "*** 6. Yes we can create a nested dictionary***\n",
    "\n",
    "\n",
    "people = {1: {'name': 'John', 'age': '27', 'sex': 'Male'},\n",
    "          2: {'name': 'Marie', 'age': '22', 'sex': 'Female'}}\n"
   ]
  },
  {
   "cell_type": "code",
   "execution_count": 45,
   "id": "87a1abf8-35be-4ab5-8911-0eb344972a57",
   "metadata": {},
   "outputs": [],
   "source": [
    "people = {1: {'name': 'John', 'age': '27', 'sex': 'Male'},\n",
    "          2: {'name': 'Marie', 'age': '22', 'sex': 'Female'}}"
   ]
  },
  {
   "cell_type": "code",
   "execution_count": 46,
   "id": "2add675e-e534-4c7b-90f6-72e55e307a88",
   "metadata": {},
   "outputs": [
    {
     "name": "stdout",
     "output_type": "stream",
     "text": [
      "{1: {'name': 'John', 'age': '27', 'sex': 'Male'}, 2: {'name': 'Marie', 'age': '22', 'sex': 'Female'}}\n"
     ]
    }
   ],
   "source": [
    "print(people)"
   ]
  },
  {
   "cell_type": "markdown",
   "id": "ddbed8cc-f79a-4729-9f32-b46f747452f9",
   "metadata": {},
   "source": [
    "\n",
    "\n",
    "*** 8. The three view objects in dictionaries key, values and item***\n",
    "\n",
    "dict1 = {'Sport': 'Cricket' , 'Teams': ['India', 'Australia', 'England', 'South Africa', 'Sri Lanka', 'New Zealand']}"
   ]
  },
  {
   "cell_type": "code",
   "execution_count": 5,
   "id": "578b9ab9-e44e-40ad-b5a7-407ec1faba73",
   "metadata": {},
   "outputs": [],
   "source": [
    "dict1 = {'Sport': 'Cricket' , 'Teams': ['India', 'Australia', 'England', 'South Africa', 'Sri Lanka', 'New Zealand']}"
   ]
  },
  {
   "cell_type": "code",
   "execution_count": 6,
   "id": "60eee46f-06fd-4d86-828f-48c033af1775",
   "metadata": {},
   "outputs": [
    {
     "name": "stdout",
     "output_type": "stream",
     "text": [
      "dict_keys(['Sport', 'Teams'])\n"
     ]
    }
   ],
   "source": [
    "keys1= dict1.keys()\n",
    "print(keys1)"
   ]
  },
  {
   "cell_type": "code",
   "execution_count": 7,
   "id": "bfbb6672-0ebd-4be6-ba65-e4bee2b4d6ce",
   "metadata": {},
   "outputs": [
    {
     "name": "stdout",
     "output_type": "stream",
     "text": [
      "dict_values(['Cricket', ['India', 'Australia', 'England', 'South Africa', 'Sri Lanka', 'New Zealand']])\n"
     ]
    }
   ],
   "source": [
    "v= dict1.values()\n",
    "print(v)"
   ]
  },
  {
   "cell_type": "code",
   "execution_count": 8,
   "id": "13f31351-edc9-46ae-b5bc-232d668adaa6",
   "metadata": {},
   "outputs": [
    {
     "name": "stdout",
     "output_type": "stream",
     "text": [
      "dict_items([('Sport', 'Cricket'), ('Teams', ['India', 'Australia', 'England', 'South Africa', 'Sri Lanka', 'New Zealand'])])\n"
     ]
    }
   ],
   "source": [
    "i=dict1.items()\n",
    "print(i)"
   ]
  },
  {
   "cell_type": "markdown",
   "id": "c8963c0b-051a-4ef8-bd71-39d2553b5fc3",
   "metadata": {},
   "source": [
    "*** 7. setdefault()***\n",
    "\n",
    "dict2 = {'language' : 'Python', 'course': 'Data Science Masters'}\n",
    "topics= ['Python', 'Machine Learning’, 'Deep Learning']"
   ]
  },
  {
   "cell_type": "code",
   "execution_count": 12,
   "id": "ce0086f7-3424-4c85-b70b-19577324c6ff",
   "metadata": {},
   "outputs": [
    {
     "data": {
      "text/plain": [
       "['Python', 'Machine Learning', 'Deep Learning']"
      ]
     },
     "execution_count": 12,
     "metadata": {},
     "output_type": "execute_result"
    }
   ],
   "source": [
    "dict2 = {'language' : 'Python', 'course': 'Data Science Masters'}\n",
    "dict2.setdefault('topics', ['Python', 'Machine Learning', 'Deep Learning'])"
   ]
  },
  {
   "cell_type": "code",
   "execution_count": 13,
   "id": "318725a6-a92e-429f-9a17-266f3ae51f01",
   "metadata": {},
   "outputs": [
    {
     "name": "stdout",
     "output_type": "stream",
     "text": [
      "{'language': 'Python', 'course': 'Data Science Masters', 'topics': ['Python', 'Machine Learning', 'Deep Learning']}\n"
     ]
    }
   ],
   "source": [
    "print(dict2)"
   ]
  },
  {
   "cell_type": "code",
   "execution_count": null,
   "id": "0399300f-cad4-4625-bda3-4f424d63c042",
   "metadata": {},
   "outputs": [],
   "source": []
  }
 ],
 "metadata": {
  "kernelspec": {
   "display_name": "Python 3 (ipykernel)",
   "language": "python",
   "name": "python3"
  },
  "language_info": {
   "codemirror_mode": {
    "name": "ipython",
    "version": 3
   },
   "file_extension": ".py",
   "mimetype": "text/x-python",
   "name": "python",
   "nbconvert_exporter": "python",
   "pygments_lexer": "ipython3",
   "version": "3.10.8"
  }
 },
 "nbformat": 4,
 "nbformat_minor": 5
}
